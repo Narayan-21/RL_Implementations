{
 "cells": [
  {
   "cell_type": "markdown",
   "metadata": {},
   "source": [
    "Monte carlo estimation for different market states (Bear, Bull and Neutral)"
   ]
  },
  {
   "cell_type": "code",
   "execution_count": 10,
   "metadata": {},
   "outputs": [],
   "source": [
    "# Help in market regime classification - based on the state returns"
   ]
  },
  {
   "cell_type": "code",
   "execution_count": null,
   "metadata": {},
   "outputs": [],
   "source": [
    "import numpy as np\n",
    "states = ['bull', 'bear', 'neutral']\n",
    "num_states = len(states)\n",
    "state_returns = {\"bull\": 0.02, \"bear\": -0.015, \"neutral\": 0.005} "
   ]
  },
  {
   "cell_type": "code",
   "execution_count": 11,
   "metadata": {},
   "outputs": [],
   "source": [
    "num_episodes = 1000000\n",
    "num_days = 30"
   ]
  },
  {
   "cell_type": "code",
   "execution_count": 12,
   "metadata": {},
   "outputs": [],
   "source": [
    "state_values = {state: [] for state in states}"
   ]
  },
  {
   "cell_type": "code",
   "execution_count": 13,
   "metadata": {},
   "outputs": [],
   "source": [
    "for _ in range(num_episodes):\n",
    "    episode = []\n",
    "    total_return = 0\n",
    "    visited_states = set()\n",
    "    \n",
    "    current_state = np.random.choice(states)\n",
    "    \n",
    "    for _ in range(num_days):\n",
    "        if current_state not in visited_states:\n",
    "            episode.append((current_state, total_return))\n",
    "            visited_states.add(current_state)\n",
    "        \n",
    "        total_return += state_returns[current_state]\n",
    "        \n",
    "        # Market state transition withing num_days -> 0.3\n",
    "        if np.random.rand() < 0.3:\n",
    "            current_state = np.random.choice(states)\n",
    "    \n",
    "    for state, ret in episode:\n",
    "        state_values[state].append(total_return)\n",
    "            "
   ]
  },
  {
   "cell_type": "code",
   "execution_count": 16,
   "metadata": {},
   "outputs": [],
   "source": [
    "V = {state: np.mean(state_values[state]) if state_values[state] else 0 for state in states}"
   ]
  },
  {
   "cell_type": "code",
   "execution_count": 17,
   "metadata": {},
   "outputs": [
    {
     "name": "stdout",
     "output_type": "stream",
     "text": [
      "Monte Carlo Estimated State Values:\n",
      "  Bull Market: 0.1081\n",
      "  Bear Market: 0.0912\n",
      "  Neutral Market: 0.1009\n"
     ]
    }
   ],
   "source": [
    "print(\"Monte Carlo Estimated State Values:\")\n",
    "for state in states:\n",
    "    print(f\"  {state.capitalize()} Market: {V[state]:.4f}\")"
   ]
  },
  {
   "cell_type": "markdown",
   "metadata": {},
   "source": [
    "GPU Implementation"
   ]
  },
  {
   "cell_type": "code",
   "execution_count": null,
   "metadata": {},
   "outputs": [
    {
     "name": "stdout",
     "output_type": "stream",
     "text": [
      "Bull Market: 0.0555\n",
      "Bear Market: 0.0089\n",
      "Neutral Market: 0.0356\n"
     ]
    }
   ],
   "source": [
    "import cupy as cp\n",
    "\n",
    "# Map states to integers\n",
    "state_map = {\"bull\": 0, \"bear\": 1, \"neutral\": 2}\n",
    "num_states = len(state_map)\n",
    "\n",
    "state_returns_int = {0: 0.02, 1: -0.015, 2: 0.005}\n",
    "returns_gpu = cp.array([state_returns_int[i] for i in range(num_states)], dtype=cp.float32)\n",
    "\n",
    "num_episodes = 1_000_000_00\n",
    "num_days = 30\n",
    "transition_prob = 0.2\n",
    "\n",
    "state_values_gpu = cp.zeros((num_states, num_episodes), dtype=cp.float32)\n",
    "\n",
    "def monte_carlo_gpu():\n",
    "    current_states = cp.random.choice(num_states, size=num_episodes)\n",
    "    total_returns = cp.zeros(num_episodes, dtype=cp.float32)\n",
    "    \n",
    "    for _ in range(num_days):\n",
    "        total_returns += returns_gpu[current_states]\n",
    "        mask = cp.random.rand(num_episodes) < transition_prob\n",
    "        new_states = cp.random.choice(num_states, size=num_episodes)\n",
    "        current_states = cp.where(mask, new_states, current_states)\n",
    "    \n",
    "    for i in range(num_states):\n",
    "        mask = current_states == i\n",
    "        state_values_gpu[i, mask] = total_returns[mask]\n",
    "\n",
    "monte_carlo_gpu()\n",
    "\n",
    "V_gpu = cp.mean(state_values_gpu, axis=1).get()\n",
    "\n",
    "market_names = {0: \"bull\", 1: \"bear\", 2: \"neutral\"}\n",
    "for i, value in enumerate(V_gpu):\n",
    "    print(f\"{market_names[i].capitalize()} Market: {value:.4f}\")\n"
   ]
  },
  {
   "cell_type": "code",
   "execution_count": null,
   "metadata": {},
   "outputs": [],
   "source": []
  }
 ],
 "metadata": {
  "kernelspec": {
   "display_name": "rl",
   "language": "python",
   "name": "python3"
  },
  "language_info": {
   "codemirror_mode": {
    "name": "ipython",
    "version": 3
   },
   "file_extension": ".py",
   "mimetype": "text/x-python",
   "name": "python",
   "nbconvert_exporter": "python",
   "pygments_lexer": "ipython3",
   "version": "3.11.0"
  }
 },
 "nbformat": 4,
 "nbformat_minor": 2
}
